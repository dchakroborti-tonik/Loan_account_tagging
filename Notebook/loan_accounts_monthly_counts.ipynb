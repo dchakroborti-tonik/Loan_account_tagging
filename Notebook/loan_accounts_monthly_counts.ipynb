{
 "cells": [
  {
   "cell_type": "code",
   "execution_count": 1,
   "id": "7be5473a-a8ce-4bfc-be95-506d08584ce5",
   "metadata": {},
   "outputs": [],
   "source": [
    "import pandas as pd\n",
    "import numpy as np"
   ]
  },
  {
   "cell_type": "code",
   "execution_count": 2,
   "id": "39ec4409-a0c2-48c8-849d-1667ee7191ed",
   "metadata": {},
   "outputs": [],
   "source": [
    "# Year and Month for which data is extracted\n",
    "data_year = 2024\n",
    "data_month = 3"
   ]
  },
  {
   "cell_type": "markdown",
   "id": "efd239b9-9585-4f9d-8b2b-28b280ffe675",
   "metadata": {},
   "source": [
    "### Raw data"
   ]
  },
  {
   "cell_type": "code",
   "execution_count": 3,
   "id": "11ef7b91-0085-48cb-9dee-bcb597f8b2de",
   "metadata": {},
   "outputs": [
    {
     "data": {
      "application/vnd.jupyter.widget-view+json": {
       "model_id": "ad237242bfac494091b6d2930ff0ca2d",
       "version_major": 2,
       "version_minor": 0
      },
      "text/plain": [
       "Query is running:   0%|          |"
      ]
     },
     "metadata": {},
     "output_type": "display_data"
    },
    {
     "data": {
      "application/vnd.jupyter.widget-view+json": {
       "model_id": "94b93b254a8743df8b4430638b24b9a9",
       "version_major": 2,
       "version_minor": 0
      },
      "text/plain": [
       "Downloading:   0%|          |"
      ]
     },
     "metadata": {},
     "output_type": "display_data"
    }
   ],
   "source": [
    "%%bigquery StartedApps\n",
    "SELECT \n",
    "    DATE_TRUNC( startApplyDateTime,MONTH) as mm, \n",
    "    (CASE WHEN reloan_flag = 1 then \"Reloan\" else  new_loan_type END) AS LoanProduct,\n",
    "    count (distinct digitalLoanAccountId) as StartedApps\n",
    "FROM \n",
    "    `prj-prod-dataplatform.risk_credit_mis.loan_master_table` \n",
    "\n",
    "group by 1,2\n",
    "order by 1,2"
   ]
  },
  {
   "cell_type": "code",
   "execution_count": 4,
   "id": "6e4d003e-f01d-4b42-bd2c-48d3a4ee4037",
   "metadata": {},
   "outputs": [
    {
     "data": {
      "application/vnd.jupyter.widget-view+json": {
       "model_id": "a8e24062854c4cadaf4d00b7ac570845",
       "version_major": 2,
       "version_minor": 0
      },
      "text/plain": [
       "Query is running:   0%|          |"
      ]
     },
     "metadata": {},
     "output_type": "display_data"
    },
    {
     "data": {
      "application/vnd.jupyter.widget-view+json": {
       "model_id": "8308a8f0824e4ae8af4940e04cb10040",
       "version_major": 2,
       "version_minor": 0
      },
      "text/plain": [
       "Downloading:   0%|          |"
      ]
     },
     "metadata": {},
     "output_type": "display_data"
    }
   ],
   "source": [
    "%%bigquery SubmittedApps\n",
    "SELECT \n",
    "    DATE_TRUNC( termsAndConditionsSubmitDateTime,MONTH) as mm,  \n",
    "    (CASE WHEN reloan_flag = 1 then \"Reloan\" else  new_loan_type END) AS LoanProduct,\n",
    "    count (distinct digitalLoanAccountId) as SubmittedApps\n",
    "FROM \n",
    "    `prj-prod-dataplatform.risk_credit_mis.loan_master_table` \n",
    "\n",
    "group by 1,2\n",
    "order by 1,2"
   ]
  },
  {
   "cell_type": "code",
   "execution_count": 5,
   "id": "ef62ceda-6eff-4e0e-9af1-30508a9469ef",
   "metadata": {},
   "outputs": [
    {
     "data": {
      "application/vnd.jupyter.widget-view+json": {
       "model_id": "cebe33aca1fe4ff38e42415683291055",
       "version_major": 2,
       "version_minor": 0
      },
      "text/plain": [
       "Query is running:   0%|          |"
      ]
     },
     "metadata": {},
     "output_type": "display_data"
    },
    {
     "data": {
      "application/vnd.jupyter.widget-view+json": {
       "model_id": "47706d9a8b7146e7971ad6640b32a9f5",
       "version_major": 2,
       "version_minor": 0
      },
      "text/plain": [
       "Downloading:   0%|          |"
      ]
     },
     "metadata": {},
     "output_type": "display_data"
    }
   ],
   "source": [
    "%%bigquery ApprovedApps\n",
    "SELECT \n",
    "    DATE_TRUNC( decision_date,MONTH) as mm, \n",
    "    (CASE WHEN reloan_flag = 1 then \"Reloan\" else  new_loan_type END) AS LoanProduct,\n",
    "    count (distinct digitalLoanAccountId) as ApprovedApps\n",
    "FROM \n",
    "    `prj-prod-dataplatform.risk_credit_mis.loan_master_table`\n",
    "where flagApproval = 1\n",
    "\n",
    "group by 1,2\n",
    "order by 1,2"
   ]
  },
  {
   "cell_type": "code",
   "execution_count": 6,
   "id": "15320a8d-ebc3-4cab-8d5d-a2e45815b6cf",
   "metadata": {},
   "outputs": [
    {
     "data": {
      "application/vnd.jupyter.widget-view+json": {
       "model_id": "239e390b87684cdc9ce3ddc6ad8d4213",
       "version_major": 2,
       "version_minor": 0
      },
      "text/plain": [
       "Query is running:   0%|          |"
      ]
     },
     "metadata": {},
     "output_type": "display_data"
    },
    {
     "data": {
      "application/vnd.jupyter.widget-view+json": {
       "model_id": "15c0efba44884e5ab152883126bcd15e",
       "version_major": 2,
       "version_minor": 0
      },
      "text/plain": [
       "Downloading:   0%|          |"
      ]
     },
     "metadata": {},
     "output_type": "display_data"
    }
   ],
   "source": [
    "%%bigquery BookedApps\n",
    "SELECT \n",
    "DATE_TRUNC( disbursementDateTime,MONTH) as mm, \n",
    "    (CASE WHEN reloan_flag = 1 then \"Reloan\" else  new_loan_type END) AS LoanProduct,\n",
    "    count (distinct digitalLoanAccountId) as BookedApps\n",
    "FROM \n",
    "    `prj-prod-dataplatform.risk_credit_mis.loan_master_table` \n",
    "\n",
    "group by 1,2\n",
    "order by 1,2"
   ]
  },
  {
   "cell_type": "code",
   "execution_count": 7,
   "id": "7c43de63-3342-45e1-bbc4-14323ac2aeab",
   "metadata": {},
   "outputs": [
    {
     "data": {
      "application/vnd.jupyter.widget-view+json": {
       "model_id": "a97a6a4b1d184d919b2998a782ab3cff",
       "version_major": 2,
       "version_minor": 0
      },
      "text/plain": [
       "Query is running:   0%|          |"
      ]
     },
     "metadata": {},
     "output_type": "display_data"
    },
    {
     "data": {
      "application/vnd.jupyter.widget-view+json": {
       "model_id": "0a1d171a26364b1e8226b766acb74aac",
       "version_major": 2,
       "version_minor": 0
      },
      "text/plain": [
       "Downloading:   0%|          |"
      ]
     },
     "metadata": {},
     "output_type": "display_data"
    }
   ],
   "source": [
    "%%bigquery BookedAmt\n",
    "SELECT \n",
    "DATE_TRUNC( disbursementDateTime,MONTH) as mm, \n",
    "    (CASE WHEN reloan_flag = 1 then \"Reloan\" else  new_loan_type END) AS LoanProduct,\n",
    "    sum (disbursedLoanAmount) as BookedAmt\n",
    "FROM \n",
    "    `prj-prod-dataplatform.risk_credit_mis.loan_master_table` \n",
    "\n",
    "group by 1,2\n",
    "order by 1,2"
   ]
  },
  {
   "cell_type": "code",
   "execution_count": 8,
   "id": "b68890c0-0b08-4f5f-83ce-4825b1c2eea6",
   "metadata": {},
   "outputs": [],
   "source": [
    "raw_data = StartedApps.merge(SubmittedApps,how='outer').merge(ApprovedApps,how='outer').merge(BookedApps,how='outer').merge(BookedAmt,how='outer')"
   ]
  },
  {
   "cell_type": "code",
   "execution_count": 9,
   "id": "77c13550-321a-4b40-a15d-5e2d69ca8f87",
   "metadata": {},
   "outputs": [],
   "source": [
    "raw_data_current_month = raw_data[(raw_data['mm']>='2022-08-01') &(raw_data['mm']<=f'{data_year}-{data_month:02d}-01')]"
   ]
  },
  {
   "cell_type": "markdown",
   "id": "0989eae6-0af7-4270-a2ba-f7ed7a73f936",
   "metadata": {},
   "source": [
    "### Loan Account Tagging"
   ]
  },
  {
   "cell_type": "code",
   "execution_count": 10,
   "id": "fb835137-cd3e-4f5d-9a7e-a22db9cb0263",
   "metadata": {},
   "outputs": [
    {
     "data": {
      "application/vnd.jupyter.widget-view+json": {
       "model_id": "ea1cc3dd32fc494495919ca8bae5b494",
       "version_major": 2,
       "version_minor": 0
      },
      "text/plain": [
       "Query is running:   0%|          |"
      ]
     },
     "metadata": {},
     "output_type": "display_data"
    },
    {
     "data": {
      "application/vnd.jupyter.widget-view+json": {
       "model_id": "92d99b6e0f894e0ea99f2400bb2f2875",
       "version_major": 2,
       "version_minor": 0
      },
      "text/plain": [
       "Downloading:   0%|          |"
      ]
     },
     "metadata": {},
     "output_type": "display_data"
    }
   ],
   "source": [
    "%%bigquery loan_type\n",
    "  SELECT\n",
    "    loanAccountNumber,\n",
    "    (CASE WHEN reloan_flag = 1 then \"Reloan\" else  new_loan_type END) AS LoanProduct,\n",
    "    disbursementDateTime,\n",
    "    (CASE WHEN new_loan_type = 'Flex-up' then\n",
    "    LAG(new_loan_type) OVER (PARTITION BY customerId ORDER BY disbursementDateTime) END) AS OriginalLoanProduct,\n",
    "  FROM\n",
    "    `prj-prod-dataplatform.risk_credit_mis.loan_master_table`\n",
    "   where flagDisbursement=1\n"
   ]
  },
  {
   "cell_type": "code",
   "execution_count": 11,
   "id": "820a7c76-1017-4a9a-a791-89a6602def46",
   "metadata": {},
   "outputs": [],
   "source": [
    "#     (CASE WHEN new_loan_type = 'Flex-up' then reloan_flag END) AS reloan_flag"
   ]
  },
  {
   "cell_type": "code",
   "execution_count": 12,
   "id": "ffbc4ae1-e0a5-4690-b9f6-a999af33ad18",
   "metadata": {},
   "outputs": [],
   "source": [
    "Loan_Acs_current_month = loan_type[(loan_type['disbursementDateTime'].dt.month == data_month) & (loan_type['disbursementDateTime'].dt.year == data_year)]"
   ]
  },
  {
   "cell_type": "code",
   "execution_count": 13,
   "id": "a8d3ef79-5422-42fa-b135-9f4a87d190f6",
   "metadata": {},
   "outputs": [],
   "source": [
    "Loan_Acs_current_month = Loan_Acs_current_month[['loanAccountNumber', 'LoanProduct', 'OriginalLoanProduct']]"
   ]
  },
  {
   "cell_type": "markdown",
   "id": "5300e36f-84a2-4822-a9ff-ed2a241b4a1b",
   "metadata": {},
   "source": [
    "#### VAS"
   ]
  },
  {
   "cell_type": "code",
   "execution_count": 14,
   "id": "e53ffe84-a5d7-441d-994c-32569a7fc111",
   "metadata": {},
   "outputs": [
    {
     "data": {
      "application/vnd.jupyter.widget-view+json": {
       "model_id": "e68cf2bc899e40d1a65c754b82d1e386",
       "version_major": 2,
       "version_minor": 0
      },
      "text/plain": [
       "Query is running:   0%|          |"
      ]
     },
     "metadata": {},
     "output_type": "display_data"
    },
    {
     "data": {
      "application/vnd.jupyter.widget-view+json": {
       "model_id": "bf88b2867fba4624af39cd23e15904bd",
       "version_major": 2,
       "version_minor": 0
      },
      "text/plain": [
       "Downloading:   0%|          |"
      ]
     },
     "metadata": {},
     "output_type": "display_data"
    }
   ],
   "source": [
    "%%bigquery vas_df\n",
    "SELECT \n",
    "    extract(year from disbursementDateTime) as year , \n",
    "    extract(month from disbursementDateTime) as month,\n",
    "     (CASE WHEN reloan_flag = 1 then \"Reloan\" else  new_loan_type END) AS new_loan_type, \n",
    "    count(distinct  b.loanAccountNumber ) AS TotalSold,\n",
    "   \n",
    "   count(distinct CASE WHEN vas_flag = 'true' THEN b.loanAccountNumber END) AS SoldWithVAS\n",
    "     FROM `prj-prod-dataplatform.dl_loans_db_raw.tdbk_digital_loan_application` a join\n",
    "`prj-prod-dataplatform.risk_credit_mis.loan_master_table` b on a.loanAccountNumber = b.loanAccountNumber\n",
    "where flagDisbursement = 1\n",
    "group by 1,2,3 \n",
    "order by 1,2,3"
   ]
  },
  {
   "cell_type": "code",
   "execution_count": 15,
   "id": "0bd66ce7-31b6-4ffc-a536-51090016996e",
   "metadata": {},
   "outputs": [],
   "source": [
    "vas_df_current_month = vas_df[(vas_df['year']==data_year)& (vas_df['month']==data_month)]"
   ]
  },
  {
   "cell_type": "markdown",
   "id": "deec16f6-1d16-4a62-881f-be91cfdf6314",
   "metadata": {},
   "source": [
    "### export"
   ]
  },
  {
   "cell_type": "code",
   "execution_count": 16,
   "id": "0dd9ac2d-c037-4a6b-bcaf-133eaac53490",
   "metadata": {},
   "outputs": [],
   "source": [
    "with pd.ExcelWriter(f'loan_accounts_tagging_{data_year}_{data_month:02d}.xlsx') as writer:\n",
    "    # Write each DataFrame to a specific sheet in the Excel file\n",
    "    raw_data_current_month.to_excel(writer, sheet_name='raw_data', index=False)\n",
    "    Loan_Acs_current_month.to_excel(writer, sheet_name='Loan Acs', index=False)\n",
    "    vas_df_current_month.to_excel(writer, sheet_name='VAS', index=False)"
   ]
  },
  {
   "cell_type": "code",
   "execution_count": null,
   "id": "dc18c963-e626-40ac-bbf1-01e9a34bcd93",
   "metadata": {},
   "outputs": [],
   "source": []
  }
 ],
 "metadata": {
  "environment": {
   "kernel": "python3",
   "name": "common-cpu.m110",
   "type": "gcloud",
   "uri": "gcr.io/deeplearning-platform-release/base-cpu:m110"
  },
  "kernelspec": {
   "display_name": "Python 3",
   "language": "python",
   "name": "python3"
  },
  "language_info": {
   "codemirror_mode": {
    "name": "ipython",
    "version": 3
   },
   "file_extension": ".py",
   "mimetype": "text/x-python",
   "name": "python",
   "nbconvert_exporter": "python",
   "pygments_lexer": "ipython3",
   "version": "3.10.12"
  }
 },
 "nbformat": 4,
 "nbformat_minor": 5
}
