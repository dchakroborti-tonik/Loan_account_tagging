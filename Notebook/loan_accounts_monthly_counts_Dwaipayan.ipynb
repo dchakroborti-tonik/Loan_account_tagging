{
 "cells": [
  {
   "cell_type": "markdown",
   "metadata": {},
   "source": [
    "# <div align=\"center\" style=\"color: #ff5733;\">Data For Finance Team</div>"
   ]
  },
  {
   "cell_type": "code",
   "execution_count": 1,
   "metadata": {},
   "outputs": [],
   "source": [
    "# %% [markdown]\n",
    "# # Jupyter Notebook Loading Header\n",
    "#\n",
    "# This is a custom loading header for Jupyter Notebooks in Visual Studio Code.\n",
    "# It includes common imports and settings to get you started quickly.\n",
    "\n",
    "# %% [markdown]\n",
    "## Import Libraries\n",
    "import pandas as pd\n",
    "import numpy as np\n",
    "import matplotlib.pyplot as plt\n",
    "import seaborn as sns\n",
    "from google.cloud import bigquery\n",
    "import os\n",
    "path = r'C:\\Users\\DwaipayanChakroborti\\AppData\\Roaming\\gcloud\\legacy_credentials\\dchakroborti@tonikbank.com\\adc.json'\n",
    "os.environ['GOOGLE_APPLICATION_CREDENTIALS'] = path\n",
    "client = bigquery.Client(project='prj-prod-dataplatform')\n",
    "\n",
    "# %% [markdown]\n",
    "## Configure Settings\n",
    "# Set options or configurations as needed\n",
    "# Example: pd.set_option('display.max_columns', None)"
   ]
  },
  {
   "cell_type": "code",
   "execution_count": 2,
   "metadata": {},
   "outputs": [],
   "source": [
    "# Year and Month for which data is extracted\n",
    "data_year = 2024\n",
    "data_month = 4"
   ]
  },
  {
   "cell_type": "code",
   "execution_count": 3,
   "metadata": {},
   "outputs": [
    {
     "name": "stdout",
     "output_type": "stream",
     "text": [
      "Job ID ab3fe240-3694-4944-879f-6dd79a8175ee successfully executed: 100%|\u001b[32m██████████\u001b[0m|\n",
      "Downloading: 100%|\u001b[32m██████████\u001b[0m|\n"
     ]
    }
   ],
   "source": [
    "sq = \"\"\"SELECT \n",
    "    DATE_TRUNC( startApplyDateTime,MONTH) as mm, \n",
    "    (CASE WHEN reloan_flag = 1 then \"Reloan\" else  new_loan_type END) AS LoanProduct,\n",
    "    count (distinct digitalLoanAccountId) as StartedApps\n",
    "FROM \n",
    "    `prj-prod-dataplatform.risk_credit_mis.loan_master_table` \n",
    "\n",
    "group by 1,2\n",
    "order by 1,2\n",
    "\"\"\"\n",
    "StartedApps = client.query(sq).to_dataframe(progress_bar_type='tqdm')"
   ]
  },
  {
   "cell_type": "code",
   "execution_count": 4,
   "metadata": {},
   "outputs": [
    {
     "name": "stdout",
     "output_type": "stream",
     "text": [
      "Job ID e35da770-2f3f-4e86-8635-133d5c238932 successfully executed: 100%|\u001b[32m██████████\u001b[0m|\n",
      "Downloading: 100%|\u001b[32m██████████\u001b[0m|\n",
      "The rows and columns in SubmittedApps dataframe are:\t (159, 3)\n"
     ]
    }
   ],
   "source": [
    "sq = \"\"\"\n",
    "SELECT \n",
    "    DATE_TRUNC( termsAndConditionsSubmitDateTime,MONTH) as mm,  \n",
    "    (CASE WHEN reloan_flag = 1 then \"Reloan\" else  new_loan_type END) AS LoanProduct,\n",
    "    count (distinct digitalLoanAccountId) as SubmittedApps\n",
    "FROM \n",
    "    `prj-prod-dataplatform.risk_credit_mis.loan_master_table` \n",
    "\n",
    "group by 1,2\n",
    "order by 1,2\n",
    "\"\"\"\n",
    "\n",
    "SubmittedApps = client.query(sq).to_dataframe(progress_bar_type='tqdm')\n",
    "print(f\"The rows and columns in SubmittedApps dataframe are:\\t {SubmittedApps.shape}\")"
   ]
  },
  {
   "cell_type": "code",
   "execution_count": 5,
   "metadata": {},
   "outputs": [
    {
     "name": "stdout",
     "output_type": "stream",
     "text": [
      "Job ID d8b35065-3f2d-404f-ac87-1089b68f8532 successfully executed: 100%|\u001b[32m██████████\u001b[0m|\n",
      "Downloading: 100%|\u001b[32m██████████\u001b[0m|\n",
      "The rows and columns in ApprovedApps dataframe are:\t (112, 3)\n"
     ]
    }
   ],
   "source": [
    "sq = \"\"\"\n",
    "SELECT \n",
    "    DATE_TRUNC( decision_date,MONTH) as mm, \n",
    "    (CASE WHEN reloan_flag = 1 then \"Reloan\" else  new_loan_type END) AS LoanProduct,\n",
    "    count (distinct digitalLoanAccountId) as ApprovedApps\n",
    "FROM \n",
    "    `prj-prod-dataplatform.risk_credit_mis.loan_master_table`\n",
    "where flagApproval = 1\n",
    "\n",
    "group by 1,2\n",
    "order by 1,2\n",
    "\"\"\"\n",
    "ApprovedApps = client.query(sq).to_dataframe(progress_bar_type='tqdm')\n",
    "print(f\"The rows and columns in ApprovedApps dataframe are:\\t {ApprovedApps.shape}\")"
   ]
  },
  {
   "cell_type": "code",
   "execution_count": 6,
   "metadata": {},
   "outputs": [
    {
     "name": "stdout",
     "output_type": "stream",
     "text": [
      "Job ID cc1fd222-f1ab-48ff-a8aa-a664dd7620e3 successfully executed: 100%|\u001b[32m██████████\u001b[0m|\n",
      "Downloading: 100%|\u001b[32m██████████\u001b[0m|\n",
      "The rows and columns in BookedApps are:\t(149, 3)\n"
     ]
    }
   ],
   "source": [
    "# BookedApps\n",
    "sq = \"\"\"SELECT \n",
    "DATE_TRUNC( disbursementDateTime,MONTH) as mm, \n",
    "    (CASE WHEN reloan_flag = 1 then \"Reloan\" else  new_loan_type END) AS LoanProduct,\n",
    "    count (distinct digitalLoanAccountId) as BookedApps\n",
    "FROM \n",
    "    `prj-prod-dataplatform.risk_credit_mis.loan_master_table` \n",
    "\n",
    "group by 1,2\n",
    "order by 1,2\n",
    "\"\"\"\n",
    "\n",
    "BookedApps = client.query(sq).to_dataframe(progress_bar_type='tqdm')\n",
    "print(f\"The rows and columns in BookedApps are:\\t{BookedApps.shape}\")"
   ]
  },
  {
   "cell_type": "code",
   "execution_count": 7,
   "metadata": {},
   "outputs": [
    {
     "name": "stdout",
     "output_type": "stream",
     "text": [
      "Job ID 9bf515be-b013-4566-8a02-1c6227d312d2 successfully executed: 100%|\u001b[32m██████████\u001b[0m|\n",
      "Downloading: 100%|\u001b[32m██████████\u001b[0m|\n",
      "The rows and columns in BookedAmt are:\t(149, 3)\n"
     ]
    }
   ],
   "source": [
    "# %%bigquery BookedAmt\n",
    "\n",
    "sq = \"\"\"\n",
    "SELECT \n",
    "DATE_TRUNC( disbursementDateTime,MONTH) as mm, \n",
    "    (CASE WHEN reloan_flag = 1 then \"Reloan\" else  new_loan_type END) AS LoanProduct,\n",
    "    sum (disbursedLoanAmount) as BookedAmt\n",
    "FROM \n",
    "    `prj-prod-dataplatform.risk_credit_mis.loan_master_table` \n",
    "\n",
    "group by 1,2\n",
    "order by 1,2\n",
    "\"\"\"\n",
    "BookedAmt = client.query(sq).to_dataframe(progress_bar_type='tqdm')\n",
    "print(f\"The rows and columns in BookedAmt are:\\t{BookedAmt.shape}\")"
   ]
  },
  {
   "cell_type": "code",
   "execution_count": 8,
   "metadata": {},
   "outputs": [],
   "source": [
    "raw_data = StartedApps.merge(SubmittedApps,how='outer').merge(ApprovedApps,how='outer').merge(BookedApps,how='outer').merge(BookedAmt,how='outer')"
   ]
  },
  {
   "cell_type": "code",
   "execution_count": 9,
   "metadata": {},
   "outputs": [],
   "source": [
    "raw_data_current_month = raw_data[(raw_data['mm']>='2022-08-01') &(raw_data['mm']<=f'{data_year}-{data_month:02d}-01')]"
   ]
  },
  {
   "cell_type": "markdown",
   "metadata": {},
   "source": [
    "### Loan Account Tagging"
   ]
  },
  {
   "cell_type": "code",
   "execution_count": 10,
   "metadata": {},
   "outputs": [
    {
     "name": "stdout",
     "output_type": "stream",
     "text": [
      "Job ID a0ecb7f5-4a34-41cf-9411-a32fc95178ad successfully executed: 100%|\u001b[32m██████████\u001b[0m|\n",
      "Downloading: 100%|\u001b[32m██████████\u001b[0m|\n",
      "The rows and columns in loan_type dataframe are:\t (126868, 4)\n"
     ]
    }
   ],
   "source": [
    "# %%bigquery loan_type\n",
    "sq = \"\"\"\n",
    "  SELECT\n",
    "    loanAccountNumber,\n",
    "    (CASE WHEN reloan_flag = 1 then \"Reloan\" else  new_loan_type END) AS LoanProduct,\n",
    "    disbursementDateTime,\n",
    "    (CASE WHEN new_loan_type = 'Flex-up' then\n",
    "    LAG(new_loan_type) OVER (PARTITION BY customerId ORDER BY disbursementDateTime) END) AS OriginalLoanProduct,\n",
    "  FROM\n",
    "    `prj-prod-dataplatform.risk_credit_mis.loan_master_table`\n",
    "   where flagDisbursement=1\n",
    "\"\"\" \n",
    "\n",
    "loan_type = client.query(sq).to_dataframe(progress_bar_type='tqdm')\n",
    "print(f\"The rows and columns in loan_type dataframe are:\\t {loan_type.shape}\")\n"
   ]
  },
  {
   "cell_type": "code",
   "execution_count": 11,
   "metadata": {},
   "outputs": [],
   "source": [
    "Loan_Acs_current_month = loan_type[(loan_type['disbursementDateTime'].dt.month == data_month) & (loan_type['disbursementDateTime'].dt.year == data_year)]"
   ]
  },
  {
   "cell_type": "code",
   "execution_count": 12,
   "metadata": {},
   "outputs": [],
   "source": [
    "Loan_Acs_current_month = Loan_Acs_current_month[['loanAccountNumber', 'LoanProduct', 'OriginalLoanProduct']]"
   ]
  },
  {
   "cell_type": "markdown",
   "metadata": {},
   "source": [
    "#### VAS"
   ]
  },
  {
   "cell_type": "code",
   "execution_count": 13,
   "metadata": {},
   "outputs": [
    {
     "name": "stdout",
     "output_type": "stream",
     "text": [
      "Job ID 70dc559c-03ac-4aab-ae53-6db738dbd40b successfully executed: 100%|\u001b[32m██████████\u001b[0m|\n",
      "Downloading: 100%|\u001b[32m██████████\u001b[0m|\n",
      "The rows and columns in vas_df dataframe are:\t (143, 5)\n"
     ]
    }
   ],
   "source": [
    "# %%bigquery vas_df\n",
    "\n",
    "sq = \"\"\"\n",
    "SELECT \n",
    "    extract(year from disbursementDateTime) as year , \n",
    "    extract(month from disbursementDateTime) as month,\n",
    "     (CASE WHEN reloan_flag = 1 then \"Reloan\" else  new_loan_type END) AS new_loan_type, \n",
    "    count(distinct  b.loanAccountNumber ) AS TotalSold,\n",
    "   \n",
    "   count(distinct CASE WHEN vas_flag = 'true' THEN b.loanAccountNumber END) AS SoldWithVAS\n",
    "     FROM `prj-prod-dataplatform.dl_loans_db_raw.tdbk_digital_loan_application` a join\n",
    "`prj-prod-dataplatform.risk_credit_mis.loan_master_table` b on a.loanAccountNumber = b.loanAccountNumber\n",
    "where flagDisbursement = 1\n",
    "group by 1,2,3 \n",
    "order by 1,2,3\n",
    "\"\"\"\n",
    "vas_df = client.query(sq).to_dataframe(progress_bar_type = 'tqdm')\n",
    "\n",
    "print(f\"The rows and columns in vas_df dataframe are:\\t {vas_df.shape}\")"
   ]
  },
  {
   "cell_type": "code",
   "execution_count": 14,
   "metadata": {},
   "outputs": [],
   "source": [
    "vas_df_current_month = vas_df[(vas_df['year']==data_year)& (vas_df['month']==data_month)]"
   ]
  },
  {
   "cell_type": "code",
   "execution_count": 16,
   "metadata": {},
   "outputs": [],
   "source": [
    "with pd.ExcelWriter(f'loan_accounts_tagging_{data_year}_{data_month:02d}.xlsx') as writer:\n",
    "    # Write each DataFrame to a specific sheet in the Excel file\n",
    "    raw_data_current_month.to_excel(writer, sheet_name='raw_data', index=False)\n",
    "    Loan_Acs_current_month.to_excel(writer, sheet_name='Loan Acs', index=False)\n",
    "    vas_df_current_month.to_excel(writer, sheet_name='VAS', index=False)"
   ]
  },
  {
   "cell_type": "code",
   "execution_count": null,
   "metadata": {},
   "outputs": [],
   "source": []
  }
 ],
 "metadata": {
  "kernelspec": {
   "display_name": "Python 3",
   "language": "python",
   "name": "python3"
  },
  "language_info": {
   "codemirror_mode": {
    "name": "ipython",
    "version": 3
   },
   "file_extension": ".py",
   "mimetype": "text/x-python",
   "name": "python",
   "nbconvert_exporter": "python",
   "pygments_lexer": "ipython3",
   "version": "3.9.19"
  }
 },
 "nbformat": 4,
 "nbformat_minor": 2
}
